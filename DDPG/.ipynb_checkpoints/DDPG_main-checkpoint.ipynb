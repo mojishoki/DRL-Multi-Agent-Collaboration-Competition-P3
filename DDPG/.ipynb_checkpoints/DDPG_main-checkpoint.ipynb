{
 "cells": [
  {
   "cell_type": "code",
   "execution_count": 1,
   "metadata": {},
   "outputs": [
    {
     "name": "stderr",
     "output_type": "stream",
     "text": [
      "INFO:unityagents:\n",
      "'Academy' started successfully!\n",
      "Unity Academy name: Academy\n",
      "        Number of Brains: 1\n",
      "        Number of External Brains : 1\n",
      "        Lesson number : 0\n",
      "        Reset Parameters :\n",
      "\t\t\n",
      "Unity brain name: TennisBrain\n",
      "        Number of Visual Observations (per agent): 0\n",
      "        Vector Observation space type: continuous\n",
      "        Vector Observation space size (per agent): 8\n",
      "        Number of stacked Vector Observation: 3\n",
      "        Vector Action space type: continuous\n",
      "        Vector Action space size (per agent): 2\n",
      "        Vector Action descriptions: , \n"
     ]
    },
    {
     "name": "stdout",
     "output_type": "stream",
     "text": [
      "Number of agents: 2\n",
      "Size of each action: 2\n",
      "There are 2 agents. Each observes a state with length: 24\n",
      "The state for the first agent looks like: [ 0.          0.          0.          0.          0.          0.\n",
      "  0.          0.          0.          0.          0.          0.\n",
      "  0.          0.          0.          0.         -6.65278625 -1.5\n",
      " -0.          0.          6.83172083  6.         -0.          0.        ]\n"
     ]
    }
   ],
   "source": [
    "import sys,os\n",
    "path=os.path.dirname(os.getcwd())\n",
    "sys.path.append(path)\n",
    "from unityagents  import UnityEnvironment\n",
    "import numpy as np\n",
    "import matplotlib.pyplot as plt\n",
    "%matplotlib inline\n",
    "import warnings\n",
    "warnings.filterwarnings('ignore')\n",
    "env = UnityEnvironment(file_name=path+'/Tennis_Windows_x86_64/Tennis.exe')\n",
    "brain_name = env.brain_names[0]\n",
    "brain = env.brains[brain_name]\n",
    "# reset the environment\n",
    "env_info = env.reset(train_mode=True)[brain_name]\n",
    "\n",
    "# number of agents\n",
    "num_agents = len(env_info.agents)\n",
    "print('Number of agents:', num_agents)\n",
    "\n",
    "# size of each action\n",
    "action_size = brain.vector_action_space_size\n",
    "print('Size of each action:', action_size)\n",
    "\n",
    "# examine the state space \n",
    "states = env_info.vector_observations\n",
    "state_size = states.shape[1]\n",
    "print('There are {} agents. Each observes a state with length: {}'.format(states.shape[0], state_size))\n",
    "print('The state for the first agent looks like:', states[0])"
   ]
  },
  {
   "cell_type": "code",
   "execution_count": 2,
   "metadata": {},
   "outputs": [],
   "source": [
    "from ddpg_agent import *\n",
    "from ddpg_train import *\n",
    "# In case you want to just check the agent (not train or watch) uncomment below\n",
    "# state_size=24\n",
    "# action_size=2"
   ]
  },
  {
   "cell_type": "code",
   "execution_count": 3,
   "metadata": {},
   "outputs": [],
   "source": [
    "agent = ddpg_agent(state_size,action_size,batch_size=512,buffer_size=int(1e5),gamma=0.99,tau=2e-1,lr_actor=1e-4,\n",
    "                   lr_critic=3e-4,weight_decay=0,update_every=5,learn_num=5,random_seed=7)\n",
    "agents=[agent]"
   ]
  },
  {
   "cell_type": "code",
   "execution_count": 6,
   "metadata": {},
   "outputs": [],
   "source": [
    "agent1 = ddpg_agent(state_size,action_size,batch_size=512,buffer_size=int(1e5),gamma=0.99,tau=2e-1,lr_actor=1e-4,\n",
    "                   lr_critic=3e-4,weight_decay=0,update_every=5,learn_num=5*2,random_seed=7)\n",
    "agent2 = ddpg_agent(state_size,action_size,batch_size=512,buffer_size=int(1e5),gamma=0.99,tau=2e-1,lr_actor=1e-4,\n",
    "                   lr_critic=3e-4,weight_decay=0,update_every=5,learn_num=5*2,random_seed=7)\n",
    "agents=[agent1,agent2]"
   ]
  },
  {
   "cell_type": "code",
   "execution_count": null,
   "metadata": {},
   "outputs": [],
   "source": [
    "mean_scores,min_scores,max_scores,moving_avgs,durations,stats=ddpg_train(agents,env,brain_name,n_episodes=1000,\n",
    "                                                                         max_t=2000,\n",
    "                                                                         target_score=0.5,\n",
    "                                                                         window_size=100, print_every=10, train_mode=True)"
   ]
  },
  {
   "cell_type": "code",
   "execution_count": 6,
   "metadata": {
    "scrolled": false
   },
   "outputs": [
    {
     "name": "stdout",
     "output_type": "stream",
     "text": [
      "\r",
      "Episode 100\tAverage Score: 0.01\n",
      "\r",
      "Episode 200\tAverage Score: 0.05\n",
      "\r",
      "Episode 300\tAverage Score: 0.06\n",
      "\r",
      "Episode 400\tAverage Score: 0.08\n",
      "\r",
      "Episode 500\tAverage Score: 0.12\n",
      "\r",
      "Episode 600\tAverage Score: 0.15\n",
      "\r",
      "Episode 700\tAverage Score: 0.17\n",
      "\r",
      "Episode 800\tAverage Score: 0.21\n",
      "\r",
      "Episode 900\tAverage Score: 0.29\n",
      "\r",
      "Episode 1000\tAverage Score: 0.39\n",
      "\r",
      "Episode 1100\tAverage Score: 0.36\n",
      "\r",
      "Episode 1200\tAverage Score: 0.39\n",
      "\r",
      "Episode 1300\tAverage Score: 0.41\n",
      "\r",
      "Episode 1400\tAverage Score: 0.48\n",
      "\r",
      "Episode 1410\tAverage Score: 0.50\n",
      "\n",
      "Environment solved in 1410 episodes!\tAverage Score: 0.50\n"
     ]
    },
    {
     "data": {
      "image/png": "[encoded data removed]",
      "text/plain": [
       "<Figure size 432x288 with 1 Axes>"
      ]
     },
     "metadata": {
      "needs_background": "light"
     },
     "output_type": "display_data"
    }
   ],
   "source": [
    "from plot_saved_results import *\n",
    "plot_results(f'Checkpoints/5121000000.990.20.00010.000305100.20.15solved1410max','DDPG')"
   ]
  },
  {
   "cell_type": "markdown",
   "metadata": {},
   "source": [
    "Loading the best agent and watching it play one episode; if you want to load other agents, first read README.md in Checkpoints folder."
   ]
  },
  {
   "cell_type": "code",
   "execution_count": 6,
   "metadata": {},
   "outputs": [],
   "source": [
    "agents[0].actor_local.load_state_dict(torch.load(f'Checkpoints/5121000000.990.20.00010.00030550.20.15solved482actor_ckpt0.pth',map_location=device))\n",
    "agents[0].critic_local.load_state_dict(torch.load(f'Checkpoints/5121000000.990.20.00010.00030550.20.15solved482critic_ckpt0.pth',map_location=device))"
   ]
  },
  {
   "cell_type": "code",
   "execution_count": null,
   "metadata": {},
   "outputs": [],
   "source": [
    "agents[0].actor_local.load_state_dict(torch.load(f'Checkpoints/5121000000.990.20.00010.000305100.20.15solved1410actor_ckpt0.pth',map_location=device))\n",
    "agents[0].critic_local.load_state_dict(torch.load(f'Checkpoints/5121000000.990.20.00010.000305100.20.15solved1410critic_ckpt0.pth',map_location=device))\n",
    "agents[1].actor_local.load_state_dict(torch.load(f'Checkpoints/5121000000.990.20.00010.000305100.20.15solved1410actor_ckpt1.pth',map_location=device))\n",
    "agents[1].critic_local.load_state_dict(torch.load(f'Checkpoints/5121000000.990.20.00010.000305100.20.15solved1410critic_ckpt1.pth',map_location=device))"
   ]
  },
  {
   "cell_type": "code",
   "execution_count": null,
   "metadata": {},
   "outputs": [],
   "source": [
    "from agent_play import *\n",
    "score_list=agent_play(agents,env,brain_name,train_mode=False,view_episodes=4)"
   ]
  },
  {
   "cell_type": "markdown",
   "metadata": {},
   "source": [
    "Testing the `OUNoise` at different scales with different `sigma` and `theta` values; the default values 0.2 and 0.15 proved to work better than 0.02 and 0.04 (which were the choice for the previous project):"
   ]
  },
  {
   "cell_type": "code",
   "execution_count": 52,
   "metadata": {},
   "outputs": [
    {
     "name": "stdout",
     "output_type": "stream",
     "text": [
      "for sigma=0.2 and theta=0.15\n",
      "average over 1000 steps: 0.31891974557265346\n",
      "average over each 1000th step over 1,000,000 steps: 0.3051923804639788\n",
      "for sigma=0.02 and theta=0.04\n",
      "average over 1000 steps: 0.05971867422804449\n",
      "average over each 1000th step over 1,000,000 steps: 0.057779701850004445\n"
     ]
    }
   ],
   "source": [
    "agent.noise.sigma=0.2\n",
    "agent.noise.theta=0.15\n",
    "testou=[]\n",
    "for _ in range(1000):\n",
    "    testou.append(agent.noise.sample())\n",
    "agent.noise.reset()\n",
    "print(\"for sigma=0.2 and theta=0.15\")\n",
    "print(\"average over 1000 steps:\",np.mean(np.abs(testou)))\n",
    "testou=[]\n",
    "for _ in range(1000):\n",
    "    for _ in range(1000):\n",
    "        agent.noise.sample()\n",
    "    testou.append(agent.noise.sample())\n",
    "    agent.noise.reset()\n",
    "print(\"average over each 1000th step over 1,000,000 steps:\",np.mean(np.abs(testou)))\n",
    "\n",
    "agent.noise.sigma=0.02\n",
    "agent.noise.theta=0.04\n",
    "testou=[]\n",
    "for _ in range(1000):\n",
    "    testou.append(agent.noise.sample())\n",
    "agent.noise.reset()\n",
    "print(\"for sigma=0.02 and theta=0.04\")\n",
    "print(\"average over 1000 steps:\",np.mean(np.abs(testou)))\n",
    "testou=[]\n",
    "for _ in range(1000):\n",
    "    for _ in range(1000):\n",
    "        agent.noise.sample()\n",
    "    testou.append(agent.noise.sample())\n",
    "    agent.noise.reset()\n",
    "print(\"average over each 1000th step over 1,000,000 steps:\",np.mean(np.abs(testou)))"
   ]
  }
 ],
 "metadata": {
  "kernelspec": {
   "display_name": "Python 3",
   "language": "python",
   "name": "python3"
  },
  "language_info": {
   "codemirror_mode": {
    "name": "ipython",
    "version": 3
   },
   "file_extension": ".py",
   "mimetype": "text/x-python",
   "name": "python",
   "nbconvert_exporter": "python",
   "pygments_lexer": "ipython3",
   "version": "3.6.8"
  }
 },
 "nbformat": 4,
 "nbformat_minor": 2
}
